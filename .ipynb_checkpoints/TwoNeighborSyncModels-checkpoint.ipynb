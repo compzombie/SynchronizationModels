{
 "cells": [
  {
   "cell_type": "code",
   "execution_count": null,
   "id": "d71d27b8-4f27-4621-aee1-bca6581563ea",
   "metadata": {},
   "outputs": [],
   "source": [
    "\"\"\"\n",
    "TODO redifine agent roles with proper data types and functions:\n",
    "cells = positions in space that are referenced by an agent\n",
    "Computation is the means by which concepts interact, via data.\n",
    "\"\"\"\n",
    "\n",
    "\n",
    "\"\"\"\n",
    "each cell is a digit in a binary number\n",
    "each agent is a 1D probability vector field\n",
    "output consists of 3 collections:\n",
    "    1) a 2D compilation of 1D states where the first row is t=0 and the last row t=max\n",
    "    2) a phase space graph where the X axis = total state 0 count, \n",
    "        the Y axis = total state 1 count, \n",
    "        and the temperature of a point corresponds to the ratio of cells adjacent to cells of a different state\n",
    "        0 (cool) <= temp ratio <= 1 (hot)\n",
    "    3) a list of integers representing the states of the graph\n",
    "    \n",
    "set ratio of black to white cells\n",
    "set ratio of black to white cells touching\n",
    "\"\"\""
   ]
  }
 ],
 "metadata": {
  "kernelspec": {
   "display_name": "Python 3",
   "language": "python",
   "name": "python3"
  },
  "language_info": {
   "codemirror_mode": {
    "name": "ipython",
    "version": 3
   },
   "file_extension": ".py",
   "mimetype": "text/x-python",
   "name": "python",
   "nbconvert_exporter": "python",
   "pygments_lexer": "ipython3",
   "version": "3.8.8"
  }
 },
 "nbformat": 4,
 "nbformat_minor": 5
}
