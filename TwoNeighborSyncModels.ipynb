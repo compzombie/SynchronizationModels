{
 "cells": [
  {
   "cell_type": "code",
   "execution_count": 1,
   "id": "c9b48624",
   "metadata": {},
   "outputs": [
    {
     "data": {
      "text/plain": [
       "'\\neach cell has a 50% chance to pass left or right\\neach cell is a digit in a binary number\\neach agent is a 1D probability vector field\\noutput consists of 3 collections:\\n    1) a 2D compilation of 1D states where the first row is t=0 and the last row t=max\\n    2) a phase space graph where the X axis = total state 0 count, \\n        the Y axis = total state 1 count, \\n        and the temperature of a point corresponds to the ratio of cells adjacent to cells of a different state\\n        0 (cool) <= temp ratio <= 1 (hot)\\n    3) a list of integers representing the states of the graph\\n    \\nset ratio of black to white cells\\nset ratio of black to white cells touching\\n'"
      ]
     },
     "execution_count": 1,
     "metadata": {},
     "output_type": "execute_result"
    }
   ],
   "source": [
    "\"\"\"\n",
    "each cell is a digit in a binary number\n",
    "each agent is a 1D probability vector field\n",
    "output consists of 3 collections:\n",
    "    1) a 2D compilation of 1D states where the first row is t=0 and the last row t=max\n",
    "    2) a phase space graph where the X axis = total state 0 count, \n",
    "        the Y axis = total state 1 count, \n",
    "        and the temperature of a point corresponds to the ratio of cells adjacent to cells of a different state\n",
    "        0 (cool) <= temp ratio <= 1 (hot)\n",
    "    3) a list of integers representing the states of the graph\n",
    "    \n",
    "set ratio of black to white cells\n",
    "set ratio of black to white cells touching\n",
    "\"\"\"\n",
    "\n",
    "import random\n",
    "\n",
    "#agents\n",
    "#each cell has a 50% chance to pass left or right\n",
    "standardHorizontal = [(.5,-1),(.5,1)]\n",
    "\n",
    "#init\n",
    "nc = 8\n",
    "cells = []\n",
    "\n",
    "#put agents in cells\n",
    "for i in range nc:\n",
    "    cells.append(standardHorizontal)\n",
    "    \n",
    "#list of dictionary cell -> state\n",
    "history = []\n",
    "states = {}\n",
    "for c in cells:\n",
    "    states[cell] = 0\n",
    "    \n",
    "#init snapshot\n",
    "history.append(states)\n",
    "\n",
    "seed = 2013\n",
    "random.seed(seed)\n",
    "\n",
    "#random initial conditions\n",
    "#translate random int to state in states\n",
    "\n",
    "#act\n",
    "for t in nt:\n",
    "    for c in cells:\n",
    "        #random number between 0 and 1\n",
    "        #if number <= first prob, get state from offset\n",
    "        #else number <= first prob + next, etc...\n",
    "        choice = random.uniform(0,1)\n",
    "        \n",
    "        prob = c[0][0]\n",
    "        if choice <= prob:\n",
    "            #set state to the state of cell at this index + offset\n",
    "            states[c] = states[(cells.index(c)+[0][1])]\n",
    "            \n",
    "        #if there is only 1 other choice, always just pick the last choice\n",
    "        else:\n",
    "            states[c] = states[(cells.index(c)+[1][1])]\n",
    "            \n",
    "#update output\n",
    "#1)picture\n",
    "#2)phase state graph\n",
    "#3)integer list"
   ]
  },
  {
   "cell_type": "code",
   "execution_count": null,
   "id": "9e50fdc6",
   "metadata": {},
   "outputs": [],
   "source": []
  }
 ],
 "metadata": {
  "kernelspec": {
   "display_name": "Python 3",
   "language": "python",
   "name": "python3"
  },
  "language_info": {
   "codemirror_mode": {
    "name": "ipython",
    "version": 3
   },
   "file_extension": ".py",
   "mimetype": "text/x-python",
   "name": "python",
   "nbconvert_exporter": "python",
   "pygments_lexer": "ipython3",
   "version": "3.8.8"
  }
 },
 "nbformat": 4,
 "nbformat_minor": 5
}
