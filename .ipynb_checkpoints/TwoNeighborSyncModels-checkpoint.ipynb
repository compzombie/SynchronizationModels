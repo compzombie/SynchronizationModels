{
 "cells": [
  {
   "cell_type": "code",
   "execution_count": 5,
   "id": "c9b48624",
   "metadata": {},
   "outputs": [
    {
     "ename": "TypeError",
     "evalue": "unhashable type: 'list'",
     "output_type": "error",
     "traceback": [
      "\u001b[1;31m---------------------------------------------------------------------------\u001b[0m",
      "\u001b[1;31mTypeError\u001b[0m                                 Traceback (most recent call last)",
      "\u001b[1;32m<ipython-input-5-0cebaf1f9e96>\u001b[0m in \u001b[0;36m<module>\u001b[1;34m\u001b[0m\n\u001b[0;32m     32\u001b[0m \u001b[0mstates\u001b[0m \u001b[1;33m=\u001b[0m \u001b[1;33m{\u001b[0m\u001b[1;33m}\u001b[0m\u001b[1;33m\u001b[0m\u001b[1;33m\u001b[0m\u001b[0m\n\u001b[0;32m     33\u001b[0m \u001b[1;32mfor\u001b[0m \u001b[0mc\u001b[0m \u001b[1;32min\u001b[0m \u001b[0mcells\u001b[0m\u001b[1;33m:\u001b[0m\u001b[1;33m\u001b[0m\u001b[1;33m\u001b[0m\u001b[0m\n\u001b[1;32m---> 34\u001b[1;33m     \u001b[0mstates\u001b[0m\u001b[1;33m[\u001b[0m\u001b[0mc\u001b[0m\u001b[1;33m]\u001b[0m \u001b[1;33m=\u001b[0m \u001b[1;36m0\u001b[0m\u001b[1;33m\u001b[0m\u001b[1;33m\u001b[0m\u001b[0m\n\u001b[0m\u001b[0;32m     35\u001b[0m \u001b[1;33m\u001b[0m\u001b[0m\n\u001b[0;32m     36\u001b[0m \u001b[1;31m#init snapshot\u001b[0m\u001b[1;33m\u001b[0m\u001b[1;33m\u001b[0m\u001b[1;33m\u001b[0m\u001b[0m\n",
      "\u001b[1;31mTypeError\u001b[0m: unhashable type: 'list'"
     ]
    }
   ],
   "source": [
    "\"\"\"\n",
    "TODO redifine agent roles with proper data types and functions:\n",
    "cells = positions in space that are referenced by an agent\n",
    "\"\"\"\n",
    "\n",
    "\n",
    "\"\"\"\n",
    "each cell is a digit in a binary number\n",
    "each agent is a 1D probability vector field\n",
    "output consists of 3 collections:\n",
    "    1) a 2D compilation of 1D states where the first row is t=0 and the last row t=max\n",
    "    2) a phase space graph where the X axis = total state 0 count, \n",
    "        the Y axis = total state 1 count, \n",
    "        and the temperature of a point corresponds to the ratio of cells adjacent to cells of a different state\n",
    "        0 (cool) <= temp ratio <= 1 (hot)\n",
    "    3) a list of integers representing the states of the graph\n",
    "    \n",
    "set ratio of black to white cells\n",
    "set ratio of black to white cells touching\n",
    "\"\"\"\n",
    "\n",
    "import random\n",
    "\n",
    "#agents\n",
    "#each cell has a 50% chance to pass left or right\n",
    "standardHorizontal = [(.5,-1),(.5,1)]\n",
    "\n",
    "#init\n",
    "nc = 8\n",
    "cells = []\n",
    "\n",
    "#put agents in cells\n",
    "for i in range(nc):\n",
    "    cells.append(standardHorizontal)\n",
    "    \n",
    "#list of dictionary cell -> state\n",
    "history = []\n",
    "states = {}\n",
    "for c in cells:\n",
    "    states[c] = 0\n",
    "    \n",
    "#init snapshot\n",
    "history.append(states)\n",
    "\n",
    "seed = 2013\n",
    "random.seed(seed)\n",
    "\n",
    "#random initial conditions\n",
    "#translate random int to state in states\n",
    "random.randrange(2^8)\n",
    "def binaryPrint(n, binlen):\n",
    "    out = bin(n).replace('0b','')\n",
    "    rev = out[::-1]\n",
    "    while len(rev) < binlen:\n",
    "        rev += '0'\n",
    "    out = rev[::-1]\n",
    "    return out\n",
    "\n",
    "#act\n",
    "for t in nt:\n",
    "    for c in cells:\n",
    "        #random number between 0 and 1\n",
    "        #if number <= first prob, get state from offset\n",
    "        #else number <= first prob + next, etc...\n",
    "        choice = random.uniform(0,1)\n",
    "        \n",
    "        prob = c[0][0]\n",
    "        if choice <= prob:\n",
    "            #set state to the state of cell at this index + offset\n",
    "            states[c] = states[(cells.index(c)+[0][1])]\n",
    "            \n",
    "        #if there is only 1 other choice, always just pick the last choice\n",
    "        else:\n",
    "            states[c] = states[(cells.index(c)+[1][1])]\n",
    "            \n",
    "history.append(states)\n",
    "            \n",
    "#update output\n",
    "#1)picture\n",
    "\n",
    "#random pixels in 1D array\n",
    "array = np.arange(0, 737280, 1, np.uint8)\n",
    "#reshape to resolution\n",
    "array = np.reshape(array, (1024, 720))\n",
    "\n",
    "data = im.fromarray(array)\n",
    "data.save('gfg_dummy_pic.png')\n",
    "Image(filename='gfg_dummy_pic.png') \n",
    "\n",
    "#2)phase state graph\n",
    "#3)integer list"
   ]
  },
  {
   "cell_type": "code",
   "execution_count": 8,
   "id": "9e50fdc6",
   "metadata": {},
   "outputs": [
    {
     "name": "stdout",
     "output_type": "stream",
     "text": [
      "1011\n",
      "00001011\n"
     ]
    }
   ],
   "source": []
  },
  {
   "cell_type": "code",
   "execution_count": 9,
   "id": "f11f14e1",
   "metadata": {},
   "outputs": [
    {
     "name": "stdout",
     "output_type": "stream",
     "text": [
      "00001011\n"
     ]
    }
   ],
   "source": [
    "\n"
   ]
  },
  {
   "cell_type": "code",
   "execution_count": null,
   "id": "7ef88d5b",
   "metadata": {},
   "outputs": [],
   "source": []
  }
 ],
 "metadata": {
  "kernelspec": {
   "display_name": "Python 3",
   "language": "python",
   "name": "python3"
  },
  "language_info": {
   "codemirror_mode": {
    "name": "ipython",
    "version": 3
   },
   "file_extension": ".py",
   "mimetype": "text/x-python",
   "name": "python",
   "nbconvert_exporter": "python",
   "pygments_lexer": "ipython3",
   "version": "3.8.8"
  }
 },
 "nbformat": 4,
 "nbformat_minor": 5
}
