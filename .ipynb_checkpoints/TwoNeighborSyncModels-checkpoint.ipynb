{
 "cells": [
  {
   "cell_type": "code",
   "execution_count": 9,
   "id": "a0e0eae6",
   "metadata": {},
   "outputs": [],
   "source": [
    "from dataclasses import dataclass\n",
    "from PIL import Image\n",
    "import copy\n",
    "import random\n",
    "\n",
    "\n",
    "\n",
    "\n",
    "class HorzAgent:\n",
    "    def __init__(self, id):\n",
    "        self.id = -1\n",
    "        self.state = 0\n",
    "        self.left = None\n",
    "        self.right = None\n",
    "        self.logState = []\n",
    "        self.logChoice = []\n",
    "        \n",
    "    def choose(self):\n",
    "        choice = random.uniform(0,1)\n",
    "        if choice <= 0.5:\n",
    "            passLeft()\n",
    "            self.logChoice.append(-1)\n",
    "        else:\n",
    "            passRight()\n",
    "            self.logChoice.append(1)\n",
    "        \n",
    "    \n",
    "    def adoptLeft(self):\n",
    "        self.state = self.left.state\n",
    "        self.logState.append(self.state)\n",
    "    \n",
    "    def adoptRight(self):\n",
    "        self.state = self.right.state\n",
    "        self.logState.append(self.state)\n",
    "\n",
    "        \n"
   ]
  },
  {
   "cell_type": "code",
   "execution_count": 10,
   "id": "526d692d",
   "metadata": {},
   "outputs": [
    {
     "data": {
      "text/plain": [
       "10"
      ]
     },
     "execution_count": 10,
     "metadata": {},
     "output_type": "execute_result"
    }
   ],
   "source": [
    "numCells = 10\n",
    "cells = [HorzAgent for i in range(numCells)]\n",
    "\n",
    "#setup agent neighbors\n",
    "for i in range(len(cells)):\n",
    "    agent = cells[i]\n",
    "    ileft = i - 1\n",
    "    iright = i + 1\n",
    "    \n",
    "    if ileft < 0:\n",
    "        ileft = len(cells) - 1\n",
    "    if iright < 0:\n",
    "        iright = len(cells) - 1\n",
    "        \n",
    "    if ileft >= len(cells) - 1:\n",
    "        ileft = 0\n",
    "    if iright >= len(cells) - 1\n",
    "        iright = 0\n",
    "        \n",
    "    \n",
    "    "
   ]
  },
  {
   "cell_type": "code",
   "execution_count": null,
   "id": "c072c21f",
   "metadata": {},
   "outputs": [],
   "source": []
  }
 ],
 "metadata": {
  "kernelspec": {
   "display_name": "Python 3",
   "language": "python",
   "name": "python3"
  },
  "language_info": {
   "codemirror_mode": {
    "name": "ipython",
    "version": 3
   },
   "file_extension": ".py",
   "mimetype": "text/x-python",
   "name": "python",
   "nbconvert_exporter": "python",
   "pygments_lexer": "ipython3",
   "version": "3.8.8"
  }
 },
 "nbformat": 4,
 "nbformat_minor": 5
}
